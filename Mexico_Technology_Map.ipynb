{
  "nbformat": 4,
  "nbformat_minor": 0,
  "metadata": {
    "colab": {
      "provenance": [],
      "mount_file_id": "1d8Sy77a6c26tJnfp7OG56oNrNHGm3MAf",
      "authorship_tag": "ABX9TyMtKXAVWCHlnQYtMMWdGu1k",
      "include_colab_link": true
    },
    "kernelspec": {
      "name": "python3",
      "display_name": "Python 3"
    },
    "language_info": {
      "name": "python"
    }
  },
  "cells": [
    {
      "cell_type": "markdown",
      "metadata": {
        "id": "view-in-github",
        "colab_type": "text"
      },
      "source": [
        "<a href=\"https://colab.research.google.com/github/ekaropolus/Intelligent-Planet-PI/blob/master/Mexico_Technology_Map.ipynb\" target=\"_parent\"><img src=\"https://colab.research.google.com/assets/colab-badge.svg\" alt=\"Open In Colab\"/></a>"
      ]
    },
    {
      "cell_type": "code",
      "execution_count": 2,
      "metadata": {
        "colab": {
          "base_uri": "https://localhost:8080/"
        },
        "id": "THnhvO8XGiRt",
        "outputId": "94b2efa1-aca7-4487-caf3-8921619eb4c7"
      },
      "outputs": [
        {
          "output_type": "stream",
          "name": "stdout",
          "text": [
            "Looking in indexes: https://pypi.org/simple, https://us-python.pkg.dev/colab-wheels/public/simple/\n",
            "Collecting builtwith\n",
            "  Downloading builtwith-1.3.4.tar.gz (34 kB)\n",
            "Requirement already satisfied: six in /usr/local/lib/python3.7/dist-packages (from builtwith) (1.15.0)\n",
            "Building wheels for collected packages: builtwith\n",
            "  Building wheel for builtwith (setup.py) ... \u001b[?25l\u001b[?25hdone\n",
            "  Created wheel for builtwith: filename=builtwith-1.3.4-py3-none-any.whl size=36095 sha256=7705281016b135f03330f85de1dac20b6439e3d0675fcdf197583ffab502fc2c\n",
            "  Stored in directory: /root/.cache/pip/wheels/72/37/d7/ee9677e57e69fec72898a783876aac646c041fa097e3a87631\n",
            "Successfully built builtwith\n",
            "Installing collected packages: builtwith\n",
            "Successfully installed builtwith-1.3.4\n",
            "Looking in indexes: https://pypi.org/simple, https://us-python.pkg.dev/colab-wheels/public/simple/\n",
            "Collecting ipwhois\n",
            "  Downloading ipwhois-1.2.0-py2.py3-none-any.whl (73 kB)\n",
            "\u001b[K     |████████████████████████████████| 73 kB 1.7 MB/s \n",
            "\u001b[?25hCollecting dnspython<=2.0.0\n",
            "  Downloading dnspython-2.0.0-py3-none-any.whl (208 kB)\n",
            "\u001b[K     |████████████████████████████████| 208 kB 11.4 MB/s \n",
            "\u001b[?25hInstalling collected packages: dnspython, ipwhois\n",
            "  Attempting uninstall: dnspython\n",
            "    Found existing installation: dnspython 2.2.1\n",
            "    Uninstalling dnspython-2.2.1:\n",
            "      Successfully uninstalled dnspython-2.2.1\n",
            "Successfully installed dnspython-2.0.0 ipwhois-1.2.0\n",
            "Looking in indexes: https://pypi.org/simple, https://us-python.pkg.dev/colab-wheels/public/simple/\n",
            "Collecting webtech\n",
            "  Downloading webtech-1.3.2-py3-none-any.whl (121 kB)\n",
            "\u001b[K     |████████████████████████████████| 121 kB 5.1 MB/s \n",
            "\u001b[?25hRequirement already satisfied: requests in /usr/local/lib/python3.7/dist-packages (from webtech) (2.23.0)\n",
            "Requirement already satisfied: urllib3!=1.25.0,!=1.25.1,<1.26,>=1.21.1 in /usr/local/lib/python3.7/dist-packages (from requests->webtech) (1.24.3)\n",
            "Requirement already satisfied: idna<3,>=2.5 in /usr/local/lib/python3.7/dist-packages (from requests->webtech) (2.10)\n",
            "Requirement already satisfied: certifi>=2017.4.17 in /usr/local/lib/python3.7/dist-packages (from requests->webtech) (2022.9.24)\n",
            "Requirement already satisfied: chardet<4,>=3.0.2 in /usr/local/lib/python3.7/dist-packages (from requests->webtech) (3.0.4)\n",
            "Installing collected packages: webtech\n",
            "Successfully installed webtech-1.3.2\n",
            "Looking in indexes: https://pypi.org/simple, https://us-python.pkg.dev/colab-wheels/public/simple/\n",
            "Requirement already satisfied: pandas in /usr/local/lib/python3.7/dist-packages (1.3.5)\n",
            "Requirement already satisfied: numpy>=1.17.3 in /usr/local/lib/python3.7/dist-packages (from pandas) (1.21.6)\n",
            "Requirement already satisfied: python-dateutil>=2.7.3 in /usr/local/lib/python3.7/dist-packages (from pandas) (2.8.2)\n",
            "Requirement already satisfied: pytz>=2017.3 in /usr/local/lib/python3.7/dist-packages (from pandas) (2022.6)\n",
            "Requirement already satisfied: six>=1.5 in /usr/local/lib/python3.7/dist-packages (from python-dateutil>=2.7.3->pandas) (1.15.0)\n",
            "Looking in indexes: https://pypi.org/simple, https://us-python.pkg.dev/colab-wheels/public/simple/\n",
            "Requirement already satisfied: xlrd in /usr/local/lib/python3.7/dist-packages (1.1.0)\n",
            "Collecting xlrd\n",
            "  Downloading xlrd-2.0.1-py2.py3-none-any.whl (96 kB)\n",
            "\u001b[K     |████████████████████████████████| 96 kB 3.7 MB/s \n",
            "\u001b[?25hInstalling collected packages: xlrd\n",
            "  Attempting uninstall: xlrd\n",
            "    Found existing installation: xlrd 1.1.0\n",
            "    Uninstalling xlrd-1.1.0:\n",
            "      Successfully uninstalled xlrd-1.1.0\n",
            "Successfully installed xlrd-2.0.1\n",
            "Looking in indexes: https://pypi.org/simple, https://us-python.pkg.dev/colab-wheels/public/simple/\n",
            "Collecting xlsxwriter\n",
            "  Downloading XlsxWriter-3.0.3-py3-none-any.whl (149 kB)\n",
            "\u001b[K     |████████████████████████████████| 149 kB 4.8 MB/s \n",
            "\u001b[?25hInstalling collected packages: xlsxwriter\n",
            "Successfully installed xlsxwriter-3.0.3\n"
          ]
        }
      ],
      "source": [
        "!pip install builtwith\n",
        "!pip install ipwhois\n",
        "!pip install webtech\n",
        "!pip install pandas\n",
        "!pip install --upgrade xlrd\n",
        "!pip install xlsxwriter"
      ]
    },
    {
      "cell_type": "code",
      "source": [
        "import socket as s\n",
        "import builtwith\n",
        "import requests\n",
        "import os\n",
        "import pandas as pd\n",
        "import webtech\n"
      ],
      "metadata": {
        "id": "EDfMx0h6yJ5j"
      },
      "execution_count": 3,
      "outputs": []
    },
    {
      "cell_type": "code",
      "source": [
        "#Set directory\n",
        "dir = '/content/drive/Shareddrives/Seminario Investigación /01 Seminario de disertación/04 Materiales/08 Datos/01 Technology Subdomains'"
      ],
      "metadata": {
        "id": "UEtwTMpEY2HO"
      },
      "execution_count": 21,
      "outputs": []
    },
    {
      "cell_type": "code",
      "source": [
        "#Load directory\n",
        "%cd /content/drive/Shareddrives/Seminario Investigación /01 Seminario de disertación/04 Materiales/08 Datos/01 Technology Subdomains"
      ],
      "metadata": {
        "colab": {
          "base_uri": "https://localhost:8080/"
        },
        "id": "cNisGdAKZDr2",
        "outputId": "0424c0e2-ba3e-4ae7-f1cb-5409d635e58a"
      },
      "execution_count": 22,
      "outputs": [
        {
          "output_type": "stream",
          "name": "stdout",
          "text": [
            "/content/drive/Shareddrives/Seminario Investigación /01 Seminario de disertación/04 Materiales/08 Datos/01 Subdominios tablas\n"
          ]
        }
      ]
    },
    {
      "cell_type": "code",
      "source": [
        "df_all_websites = pd.DataFrame()\n",
        "for file in os.listdir(dir):\n",
        "  print(file)\n",
        "  if file.endswith(\".csv\"):\n",
        "    file_name = file\n",
        "    df_websites = pd.read_csv(file_name,header=0)\n",
        "    # set_tech(df_websites,file)\n",
        "    if df_all_websites.empty:\n",
        "      df_all_websites = df_websites.copy()\n",
        "    else:\n",
        "      df_all_websites = pd.concat([df_all_websites, df_websites])\n",
        "      "
      ],
      "metadata": {
        "id": "5A30XMkrZgpA"
      },
      "execution_count": null,
      "outputs": []
    },
    {
      "cell_type": "code",
      "source": [
        "df_all_websites"
      ],
      "metadata": {
        "id": "QtvTtQNEbrdb"
      },
      "execution_count": null,
      "outputs": []
    },
    {
      "cell_type": "code",
      "source": [
        "def set_tech(df_in,name):\n",
        "  df_webtech = pd.DataFrame()\n",
        "  for row in df_in.itertuples(index=True, name='Pandas'):\n",
        "      domain = getattr(row, \"Domain\")\n",
        "      rank = getattr(row, \"Rank\")\n",
        "      hosting = getattr(row, \"_3\")\n",
        "      mail = getattr(row, \"_4\")\n",
        "      try:\n",
        "        ip = s.gethostbyname(domain)\n",
        "      except:\n",
        "        ip = '-'\n",
        "        technology = '-'\n",
        "        version = '-'\n",
        "        new_row = {'domain':domain, 'rank':rank, 'hosting':hosting, 'mail':mail, 'ip':ip, 'technology':technology, 'version':version}\n",
        "        #append row to the dataframe\n",
        "        df_webtech = df_webtech.append(new_row, ignore_index=True)\n",
        "        continue\n",
        "    \n",
        "      wt = webtech.WebTech(options={'json': True})\n",
        "      try:\n",
        "        tech_rep = wt.start_from_url('http://'+ip)\n",
        "        df_tech = pd.DataFrame.from_dict(tech_rep['tech'])\n",
        "        for row_tech in df_tech.itertuples(index=True, name='Pandas_tech'):\n",
        "          technology = getattr(row_tech, \"name\")\n",
        "          version = getattr(row_tech, \"version\")\n",
        "          new_row = {'domain':domain, 'rank':rank, 'hosting':hosting, 'mail':mail, 'ip':ip, 'technology':technology, 'version':version}\n",
        "          #append row to the dataframe\n",
        "          df_webtech = df_webtech.append(new_row, ignore_index=True)\n",
        "      except:\n",
        "        technology = '-'\n",
        "        version = '-'\n",
        "        new_row = {'domain':domain, 'rank':rank, 'hosting':hosting, 'mail':mail, 'ip':ip, 'technology':technology, 'version':version}\n",
        "        #append row to the dataframe\n",
        "        df_webtech = df_webtech.append(new_row, ignore_index=True)\n",
        "        continue\n",
        "  df_webtech.to_csv(dir + \"/all_tech_\"+name) "
      ],
      "metadata": {
        "id": "sYhxQlBIxaAo"
      },
      "execution_count": 17,
      "outputs": []
    },
    {
      "cell_type": "code",
      "source": [],
      "metadata": {
        "id": "wLHsSGaqdyWr"
      },
      "execution_count": null,
      "outputs": []
    }
  ]
}